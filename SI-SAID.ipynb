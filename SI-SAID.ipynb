{
 "cells": [
  {
   "cell_type": "markdown",
   "metadata": {},
   "source": [
    "# EXO3 : Bayésien naïf discret"
   ]
  },
  {
   "cell_type": "markdown",
   "metadata": {},
   "source": [
    "Question de cours :\n",
    "\n",
    " les paramètres à estimer la contribution de chaque pixel fait à la classe \n",
    " on les stocke dans un array \n",
    " "
   ]
  },
  {
   "cell_type": "code",
   "execution_count": 1,
   "metadata": {
    "collapsed": true
   },
   "outputs": [],
   "source": [
    "import pickle, gzip, math, operator, numpy as np\n",
    "from operator import itemgetter\n",
    "\n",
    "# Load the dataset\n",
    "f = gzip.open('./mnist.pkl.gz', 'rb')\n",
    "u = pickle._Unpickler(f)\n",
    "u.encoding = 'latin1'\n",
    "p = u.load()\n",
    "train_set, valid_set, test_set = p\n",
    "labels = train_set[1] # labels\n",
    "images = train_set[0] # images \n",
    "images_test = test_set[0] # images de test\n",
    "labels_test = test_set[1] # labels de test\n",
    "# C  # de classes\n",
    "C = 10  \n",
    " \n",
    "\n",
    "# transformation des images en binaire ( binary pixel)\n",
    "def images_binaire(image):\n",
    "    x = np.zeros(len(image))\n",
    "    for i in range(len(image)):\n",
    "        if np.all((image[i]>0.5)):\n",
    "            x[i]=1\n",
    "        elif np.all((image[i]<=0.5)):\n",
    "            x[i]=0\n",
    "\n",
    "    return x\n",
    "\n",
    "# Calcule de prior\n",
    "priori = {}\n",
    "for i in range(C):\n",
    "    priori[i] = np.log(len(labels[labels == i]) / len(labels))"
   ]
  },
  {
   "cell_type": "code",
   "execution_count": null,
   "metadata": {
    "collapsed": true
   },
   "outputs": [],
   "source": [
    "# binariser toutes les images \n",
    "j = 0\n",
    "for i in images :\n",
    "    images[j]= images_binaire(i)\n",
    "    j+=1"
   ]
  },
  {
   "cell_type": "code",
   "execution_count": 3,
   "metadata": {
    "collapsed": true
   },
   "outputs": [],
   "source": [
    "# binariser toutes les images de test\n",
    "j = 0\n",
    "for i in images_test :\n",
    "    images_test[j]= images_binaire(i)\n",
    "    j+=1"
   ]
  },
  {
   "cell_type": "code",
   "execution_count": 26,
   "metadata": {
    "collapsed": true
   },
   "outputs": [],
   "source": [
    "p = np.zeros((C, 784))\n",
    "\n",
    "\n",
    "# l'estimation de priori pour chaque pixel\n",
    "for x, pic in enumerate(images):\n",
    "    \n",
    "    p[labels[x]]= p[labels[x]] + pic # addition des pixels \n",
    "    \n",
    "for i in range(C):\n",
    "    p[i] = p[i] / p[i].sum()"
   ]
  },
  {
   "cell_type": "code",
   "execution_count": 5,
   "metadata": {
    "collapsed": true,
    "scrolled": true
   },
   "outputs": [],
   "source": [
    "\n",
    "def prediction(pic, p):\n",
    "    inference = {}   \n",
    "    for k in range(C):        \n",
    "        x = pic[p[k] != 0] # sélictionner les pixels qui sont pas null dans l'estimation de la classe k\n",
    "        py = p[k][p[k] != 0] # sélictionner les pixels de l'etimation de la classe k qui sont pas null \n",
    "        likelihood = (x * np.log(py) + (1-x)* np.log(1-py) ).sum()\n",
    "        inference[k] = likelihood + priori[k]\n",
    "    return inference\n"
   ]
  },
  {
   "cell_type": "code",
   "execution_count": 47,
   "metadata": {},
   "outputs": [
    {
     "name": "stdout",
     "output_type": "stream",
     "text": [
      " Une réussite de : 81.26 %\n"
     ]
    }
   ],
   "source": [
    "\n",
    "acc = 0\n",
    "for i in range(len(images_test)):\n",
    "    predire = prediction(test_set[0][i], p)\n",
    "#     print (predire)\n",
    "    res = max(predire.items(), key=operator.itemgetter(1))[0]\n",
    "#     print (res)\n",
    "#     print (test_set[1][i])\n",
    "    if res == test_set[1][i] :\n",
    "        acc= acc +1 \n",
    "    else :\n",
    "        0\n",
    "acc = acc /(len(labels_test))\n",
    "print(\" le taux de réussite est de :\",acc * 100 ,\"%\") "
   ]
  },
  {
   "cell_type": "code",
   "execution_count": 50,
   "metadata": {
    "collapsed": true
   },
   "outputs": [],
   "source": [
    "# lissage de la place \n",
    "# soit alpha = 1e-9\n",
    "alpha = 1e-9\n",
    "p_lissage = np.zeros((C,784))\n",
    "for x, pic in enumerate(images):\n",
    "    p_lissage[labels[x]] = p_lissage[labels[x]]+pic+alpha\n",
    "for k in range(C):\n",
    "    p_lissage[k] = p_lissage[k] /(p_lissage[k].sum()+(2*alpha))\n",
    "    \n"
   ]
  },
  {
   "cell_type": "code",
   "execution_count": 51,
   "metadata": {},
   "outputs": [
    {
     "name": "stdout",
     "output_type": "stream",
     "text": [
      " Une réussite de : 83.67 %\n"
     ]
    }
   ],
   "source": [
    "acc = 0\n",
    "for i in range(len(images_test)):\n",
    "    predire = prediction(test_set[0][i], p_lissage)\n",
    "#     print (predire)\n",
    "    res = max(predire.items(), key=operator.itemgetter(1))[0]\n",
    "#     print (res)\n",
    "#     print (test_set[1][i])\n",
    "    if res == test_set[1][i] :\n",
    "        acc= acc +1 \n",
    "    else :\n",
    "        0\n",
    "acc = acc /(len(labels_test))\n",
    "print(\" le taux de réussite est de :\",acc *100 ,\"%\") \n"
   ]
  },
  {
   "cell_type": "code",
   "execution_count": 55,
   "metadata": {},
   "outputs": [
    {
     "data": {
      "image/png": "[encoded data removed]",
      "text/plain": [
       "<matplotlib.figure.Figure at 0x7f4991320a58>"
      ]
     },
     "metadata": {},
     "output_type": "display_data"
    },
    {
     "name": "stdout",
     "output_type": "stream",
     "text": [
      "6\n"
     ]
    }
   ],
   "source": [
    "#test \n",
    "import matplotlib.pyplot as plt\n",
    "%matplotlib inline\n",
    "plt.matshow(images_test[50].reshape(28,28))\n",
    "plt.show()\n",
    "\n",
    "predire = prediction(images_test[50], p)\n",
    "res = max(predire.items(), key=operator.itemgetter(1))[0]\n",
    "print(res)"
   ]
  },
  {
   "cell_type": "markdown",
   "metadata": {},
   "source": [
    "# EXO1 : "
   ]
  },
  {
   "cell_type": "markdown",
   "metadata": {
    "collapsed": true
   },
   "source": [
    "1) l'hypothese qui est faite sur la dépendance entre les pixels est la suivante :\n",
    "\n",
    "le classifieur traite pixel par pixel. \n",
    "Tous les pixels sont indépendants des autres\n",
    "\n",
    "2)l'impact sur la matrice de covariance : \n",
    "\n",
    "si l'hypothèse est verifiée, les valeurs de \n",
    "la matrice de covariance devraient etre nulles sauf au niveau de \n",
    "la diagonale les valeurs devraient etre les variances de chaque pixel.\n",
    "pour vérifier cette hypothèse, il suffit de vérifier \n",
    "toutes les valeurs de la matrice de covariance : \n",
    "s'il y a une valeur non nul et qui n'appartient pas à la diagonale, \n",
    "cela veut dire que tous les pixels ne sont pas indépendants.\n",
    "\n",
    "\n",
    "\n"
   ]
  },
  {
   "cell_type": "markdown",
   "metadata": {
    "collapsed": true
   },
   "source": [
    "les paramètres à estimer sont les paramètres de la matrice de covariance \n",
    "\n"
   ]
  },
  {
   "cell_type": "markdown",
   "metadata": {
    "collapsed": true
   },
   "source": [
    "# EXO2 : Bayésien Naif Gaussien"
   ]
  },
  {
   "cell_type": "code",
   "execution_count": 33,
   "metadata": {},
   "outputs": [
    {
     "data": {
      "image/png": "[encoded data removed]",
      "text/plain": [
       "<matplotlib.figure.Figure at 0x7f099acbd080>"
      ]
     },
     "metadata": {},
     "output_type": "display_data"
    },
    {
     "data": {
      "image/png": "[encoded data removed]",
      "text/plain": [
       "<matplotlib.figure.Figure at 0x7f099acde048>"
      ]
     },
     "metadata": {},
     "output_type": "display_data"
    },
    {
     "data": {
      "image/png": "[encoded data removed]",
      "text/plain": [
       "<matplotlib.figure.Figure at 0x7f09a91d6630>"
      ]
     },
     "metadata": {},
     "output_type": "display_data"
    },
    {
     "data": {
      "image/png": "[encoded data removed]",
      "text/plain": [
       "<matplotlib.figure.Figure at 0x7f09919e2278>"
      ]
     },
     "metadata": {},
     "output_type": "display_data"
    },
    {
     "data": {
      "image/png": "[encoded data removed]",
      "text/plain": [
       "<matplotlib.figure.Figure at 0x7f098203aa90>"
      ]
     },
     "metadata": {},
     "output_type": "display_data"
    }
   ],
   "source": [
    "img4 = images[labels == 4]\n",
    "v = np.var(img4, axis = 0)\n",
    "var_max = np.argsort(v)\n",
    "\n",
    "for i in var_max[-5:]:\n",
    "  # Afficher l'histogramme du pixel de rang i\n",
    "  vp = np.array([img[i] for img in img4])\n",
    "  plt.hist(np.histogram(vp, bins=np.arange(np.argmax(vp))))\n",
    "  plt.show()"
   ]
  },
  {
   "cell_type": "code",
   "execution_count": 34,
   "metadata": {},
   "outputs": [
    {
     "data": {
      "image/png": "[encoded data removed]",
      "text/plain": [
       "<matplotlib.figure.Figure at 0x7f099acc7fd0>"
      ]
     },
     "metadata": {},
     "output_type": "display_data"
    },
    {
     "data": {
      "image/png": "[encoded data removed]",
      "text/plain": [
       "<matplotlib.figure.Figure at 0x7f099ac07c88>"
      ]
     },
     "metadata": {},
     "output_type": "display_data"
    },
    {
     "data": {
      "image/png": "[encoded data removed]",
      "text/plain": [
       "<matplotlib.figure.Figure at 0x7f098207e898>"
      ]
     },
     "metadata": {},
     "output_type": "display_data"
    },
    {
     "data": {
      "image/png": "[encoded data removed]",
      "text/plain": [
       "<matplotlib.figure.Figure at 0x7f09820075f8>"
      ]
     },
     "metadata": {},
     "output_type": "display_data"
    },
    {
     "data": {
      "image/png": "[encoded data removed]",
      "text/plain": [
       "<matplotlib.figure.Figure at 0x7f09821afa20>"
      ]
     },
     "metadata": {},
     "output_type": "display_data"
    }
   ],
   "source": [
    "img5 = images[labels == 5]\n",
    "v = np.var(img5, axis = 0)\n",
    "var_max = np.argsort(v)\n",
    "\n",
    "for i in var_max[-5:]:\n",
    "  # Afficher l'histogramme du pixel de rang i\n",
    "  vp = np.array([img[i] for img in img5])\n",
    "  plt.hist(np.histogram(vp, bins=np.arange(np.argmax(vp))))\n",
    "  plt.show()"
   ]
  },
  {
   "cell_type": "code",
   "execution_count": null,
   "metadata": {
    "collapsed": true
   },
   "outputs": [],
   "source": [
    "# on remarque que les 200 premières images ont une grande variance\n",
    "# contrairement aux autres images qui ont une varience très faible"
   ]
  },
  {
   "cell_type": "code",
   "execution_count": 35,
   "metadata": {
    "collapsed": true
   },
   "outputs": [],
   "source": [
    "import random \n",
    "from scipy.stats import norm\n",
    "moy_a = random.uniform(0, 1)\n",
    "moy_b = random.uniform(0, 1)\n",
    "var_a = random.uniform(0, 1)\n",
    "var_b = random.uniform(0, 1)\n",
    "alpha1 = 0.1\n",
    "alpha2 = 1 - alpha1\n",
    "pixel =198\n",
    "# récuperer les images du label 5\n",
    "substrain = images[labels==5]\n",
    "#initialiser les tableaux de contribution \n",
    "contrib_a = np.zeros(len(subtrain),dtype=np.float32)\n",
    "contrib_b = np.zeros(len(substrain),dtype=np.float32)\n",
    "\n",
    "for j in range(20) : \n",
    "    for i in range (len(substrain)):\n",
    "        # normalisation \n",
    "        norm_a = norm.cdf(pixel, moy_a, np.sqrt(var_a))\n",
    "        norm_b = norm.cdf(pixel, moy_b, np.sqrt(var_b))\n",
    "        a = (alpha1 * norm_a) / ((alpha1 * norm_a) + (alpha2 * norm_b))\n",
    "        # calcul de contribution pour le pixel 198 de chaque image pour a et b\n",
    "        contrib_a[i] = (alpha1 * norm_a) / ((alpha1 * norm_a) + (alpha2 * norm_b))\n",
    "        contrib_b [i] = (alpha2 * norm_b) / ((alpha1 * norm_a) + (alpha2 * norm_b))\n",
    "    somme = 0\n",
    "    somme_a = 0.0\n",
    "    somme_b = 0.0\n",
    "    # calculer la somme des contributions\n",
    "    for i in range(len(substrain)):\n",
    "        somme_a = somme_a + (contrib_a[i] * images[i][198])\n",
    "        somme_b = somme_b + (contrib_b[i] * images[i][198])   \n",
    "    \n",
    "    # recalculer de nouveau la valeur de la moyenne de a et b\n",
    "    moy_a = somme_a / contrib_a.sum()\n",
    "    moy_b = somme_b / contrib_b.sum()\n",
    "    \n",
    "    #recalculer la valeur des deux variences\n",
    "    for i in range (len(substrain)):\n",
    "        var_a = pow((contrib_a[i] - moy_a),2) / contrib_a.sum()\n",
    "        var_b = pow((contrib_b[i] - moy_b),2) / contrib_b.sum()\n",
    "    #recalculer les valeurs de alpha1 et alpha2\n",
    "    alpha1 = contrib_a.sum() / (contrib_a.sum() + contrib_b.sum())\n",
    "    alpha2 = 1 - alpha1"
   ]
  }
 ],
 "metadata": {
  "kernelspec": {
   "display_name": "Python 3",
   "language": "python",
   "name": "python3"
  },
  "language_info": {
   "codemirror_mode": {
    "name": "ipython",
    "version": 3
   },
   "file_extension": ".py",
   "mimetype": "text/x-python",
   "name": "python",
   "nbconvert_exporter": "python",
   "pygments_lexer": "ipython3",
   "version": "3.6.3"
  }
 },
 "nbformat": 4,
 "nbformat_minor": 2
}
